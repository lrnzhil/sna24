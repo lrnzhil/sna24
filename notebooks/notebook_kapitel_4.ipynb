{
 "cells": [
  {
   "cell_type": "markdown",
   "metadata": {},
   "source": [
    "# Ausbreitungsmechanismen\n",
    "Im Skript haben Sie Ausbreitungsmechanismen und Verfahren zur Prognose theoretischer Diffusionsgraphen kennengelernt. Diese sollen Sie nun praktisch anwenden. Als Datenbasis dient erneut das bereits bekannte Game of Thrones Netzwerk. Bevor Sie mit der Analyse starten, müssen die notwendigen Pakete importiert werden."
   ]
  },
  {
   "cell_type": "code",
   "execution_count": null,
   "metadata": {},
   "outputs": [],
   "source": [
    "import matplotlib.pyplot as plt\n",
    "import ndlib.models.ModelConfig as mc\n",
    "import ndlib.models.epidemics as ep\n",
    "import networkx as nx\n",
    "import pandas as pd\n",
    "import random\n",
    "import statistics"
   ]
  },
  {
   "cell_type": "markdown",
   "metadata": {},
   "source": [
    "Nun kann das im .graphml-Format vorliegende Netzwerk geladen werden."
   ]
  },
  {
   "cell_type": "code",
   "execution_count": null,
   "metadata": {},
   "outputs": [],
   "source": [
    "# Load network from graphml format\n",
    "G_got = nx.read_graphml('./datasets/got.graphml')"
   ]
  },
  {
   "cell_type": "markdown",
   "metadata": {},
   "source": [
    "### Aufgabe 1\n",
    "Konvertieren Sie G_got in einen gerichteten Graphen und speichern Sie diesen in der Variable DiG_got."
   ]
  },
  {
   "cell_type": "code",
   "execution_count": null,
   "metadata": {},
   "outputs": [],
   "source": [
    "# Platz für Ihre Lösung"
   ]
  },
  {
   "cell_type": "markdown",
   "metadata": {},
   "source": [
    "### Aufgabe 2\n",
    "Wie viele Knoten und Kanten enthält der entstandene Digraph? Und wie viele Kanten mehr besitzt der gerichtete Graph als der ungerichtete Graph?"
   ]
  },
  {
   "cell_type": "code",
   "execution_count": null,
   "metadata": {},
   "outputs": [],
   "source": [
    "# Platz für Ihre Lösung"
   ]
  },
  {
   "cell_type": "markdown",
   "metadata": {},
   "source": [
    "## Linear Threshold Model\n",
    "### Aufgabe 3\n",
    "Voraussetzung für die Anwendung des Linear Threshold Model ist die Existenz von Schwellwerten pro Knoten sowie die Existenz von Kantengewichten, die den Einfluss eines Kontens auf einen anderen Knoten repräsentieren. Zweitere liegen im Graphen bereits als Node Attribut **weight** vor. Die Schwellwerte hingegen existieren noch nicht und müssen nun definiert werden. Schreiben Sie eine Funktion **set_thresholds**, die jedem Knoten des Netzwerks einen zufälligen ganzzahligen Wert zwischen 1 und 10 zuweist und diesen als Node Attribut mit der Bezeichnung **threshold** auf dem jeweiligen Knoten speichert. Die Funktion soll nur einen Parameter, den entsprechenden Graphen, als Input erwarten und keinen Rückgabewert besitzen."
   ]
  },
  {
   "cell_type": "code",
   "execution_count": null,
   "metadata": {},
   "outputs": [],
   "source": [
    "def set_thresholds(G):\n",
    "    \n",
    "    # Platz für Ihre Lösung"
   ]
  },
  {
   "cell_type": "markdown",
   "metadata": {},
   "source": [
    "Führen Sie die Funktion für den Graphen **DiG_got** aus."
   ]
  },
  {
   "cell_type": "code",
   "execution_count": null,
   "metadata": {},
   "outputs": [],
   "source": [
    "set_thresholds(DiG_got)"
   ]
  },
  {
   "cell_type": "markdown",
   "metadata": {},
   "source": [
    "### Aufgabe 4\n",
    "Implementieren Sie eine Funktion **linear_threshold_model**, die das im Skript beschriebene Linear Threshold Verfahren ausführt. Berücksichtigen Sie dabei folgende Punkte:\n",
    "* Die Funktion soll zwei Input-Parameter besitzen: Den Graphen sowie eine Liste der Early Adopters.\n",
    "* Sobald keine neuen Knoten mehr aktiviert werden können, soll der Algorithmus terminieren.\n",
    "* Die Funktion soll einen Rückgabewert **ltm_results** besitzen. Dieser soll eine Liste sein, die pro Iteration des Algorithmus ein Dictionary enthält. Jedes Dictionary soll alle Knoten des Netzwerks (Key) sowie deren Status in der aktuellen Iteration (Value; 0 = susceptible, 1 = infectious, 2 = removed) enthalten. **Beispiel zum Aufbau des Rückgabewerts**:\n",
    "[{'KnotenA': 0,\n",
    "  'KnotenB': 1,\n",
    "  'KnotenC': 0},\n",
    " {'KnotenA': 1,\n",
    "  'KnotenB': 2,\n",
    "  'KnotenC': 1}]"
   ]
  },
  {
   "cell_type": "code",
   "execution_count": null,
   "metadata": {},
   "outputs": [],
   "source": [
    "def linear_threshold_model (G, early_adopters):\n",
    "  \n",
    "    # Platz für Ihre Lösung\n",
    "    \n",
    "    return ltm_results"
   ]
  },
  {
   "cell_type": "markdown",
   "metadata": {},
   "source": [
    "### Aufgabe 5\n",
    "Führen Sie die zuvor implementierte Funktion **linear_threshold_model** mit folgenden Parametern aus und speichern Sie den Rückgabewert in einer Variable **ltm_results**:\n",
    "* early_adopters = ['Bran-Stark', 'Samwell-Tarly', 'Jon-Snow']\n",
    "* G = DiG_got"
   ]
  },
  {
   "cell_type": "code",
   "execution_count": null,
   "metadata": {},
   "outputs": [],
   "source": [
    "# Platz für Ihre Lösung"
   ]
  },
  {
   "cell_type": "markdown",
   "metadata": {},
   "source": [
    "### Aufgabe 6\n",
    "Ermitteln Sie die Anzahl der Personen pro Status (S, I, R) nach Abschluss der letzten Iteration."
   ]
  },
  {
   "cell_type": "code",
   "execution_count": null,
   "metadata": {},
   "outputs": [],
   "source": [
    "# Platz für Ihre Lösung"
   ]
  },
  {
   "cell_type": "markdown",
   "metadata": {},
   "source": [
    "### Visualisierung\n",
    "Führen Sie die folgende Zelle aus, um die Anzahl der Personen pro Status (S, I, R) über alle Iterationen zu visualisieren."
   ]
  },
  {
   "cell_type": "code",
   "execution_count": null,
   "metadata": {},
   "outputs": [],
   "source": [
    "# Create list of values over all iterations per state\n",
    "susceptible_nodes = []\n",
    "for iteration in range(0, len(ltm_results)):\n",
    "    susceptible_nodes.append(len([k for k, v in ltm_results[iteration].items() if v == 0]))\n",
    "    \n",
    "infectious_nodes = []\n",
    "for iteration in range(0, len(ltm_results)):\n",
    "    infectious_nodes.append(len([k for k, v in ltm_results[iteration].items() if v == 1]))\n",
    "    \n",
    "removed_nodes = []\n",
    "for iteration in range(0, len(ltm_results)):\n",
    "    removed_nodes.append(len([k for k, v in ltm_results[iteration].items() if v == 2]))\n",
    "    \n",
    "# Plot lines\n",
    "plt.plot(susceptible_nodes, label='Susceptible')\n",
    "plt.plot(infectious_nodes, label='Infectious')\n",
    "plt.plot(removed_nodes, label='Removed')\n",
    "\n",
    "# Add labels and title\n",
    "plt.title(\"Linear Threshold Model - Game of Thrones\")\n",
    "plt.xlabel(\"Iteration\")\n",
    "plt.ylabel(\"Number of nodes\")\n",
    " \n",
    "plt.legend()\n",
    "plt.show()"
   ]
  },
  {
   "cell_type": "markdown",
   "metadata": {},
   "source": [
    "Alternativ können Sie Verbreitung der Information im Netzwerk auch wie folgt visualisieren.\n",
    "\n",
    "**Hinweis**: Sollte Ihr Jupyter Notebook nach Ausführung der folgenden Zelle langsam reagieren, dann löschen Sie deren Output, nachdem Sie die Visualisierung betrachtet haben."
   ]
  },
  {
   "cell_type": "code",
   "execution_count": null,
   "metadata": {
    "scrolled": true
   },
   "outputs": [],
   "source": [
    "for iteration in range(0, len(ltm_results)):\n",
    "    \n",
    "    colors = [ltm_results[iteration][node] for node in DiG_got.nodes()]\n",
    "\n",
    "    plt.figure(figsize=(30, 20))\n",
    "    nx.draw_networkx(DiG_got, with_labels=True, node_size=1600, cmap = plt.get_cmap('Spectral'), node_color=colors, font_size=18)"
   ]
  },
  {
   "cell_type": "markdown",
   "metadata": {},
   "source": [
    "## Independent Cascade Model\n",
    "### Aufgabe 7\n",
    "Schreiben Sie eine Funktion **icm**, die das Independent Cascade Model ausführt und drei Input-Parameter entgegennimmt:\n",
    "* **G:** NetworkX-Graph, für den das IC-Modell ausgeführt werden soll.\n",
    "* **early_adopters:** Liste der Knoten, die als Early Adopter dienen.\n",
    "* **iter_nr:** Anzahl der Iterationen (int), die im IC-Modell ausgeführt werden sollen.\n",
    "\n",
    "Das IC-Modell müssen Sie nicht selbst implementieren. Greifen Sie dafür auf das Paket *ndlib* zurück. Ein Beispiel zur Implementierung finden Sie hier: https://ndlib.readthedocs.io/en/latest/reference/models/epidemics/IndependentCascades.html#\n",
    "Ausserdem finden Sie hier ein Beispiel, wie Sie Early Adopter in Form einer Node List setzen können: https://ndlib.readthedocs.io/en/latest/reference/mconf/Mconf.html#status-configuration.\n",
    "\n",
    "Die Funktion soll den Status pro Knoten und Iteration in Form der Variable \"iterations\" zurückgeben. Ausserdem soll in der Funktion pro Kante ein \"Threshold\" (in ndlib so bezeichnet) zwischen 0 und 1 gesetzt werden, der angibt, mit welcher Wahrscheinlichkeit ein infizierter Knoten über diese Kante einen Nachbarknoten infiziert. Verwenden Sie dazu die im Graphen bereits existierenden Kantengewichte (Edge Attribut \"weight\") und normalisieren Sie diese auf den Wertebereich zwischen 0 und 1."
   ]
  },
  {
   "cell_type": "code",
   "execution_count": null,
   "metadata": {},
   "outputs": [],
   "source": [
    "def icm (G, early_adopters, iter_nr):\n",
    "    \n",
    "    # Platz für Ihre Lösung\n",
    "    \n",
    "    return iterations"
   ]
  },
  {
   "cell_type": "markdown",
   "metadata": {},
   "source": [
    "### Aufgabe 8\n",
    "Führen Sie die zuvor implementierte icm-Funktion mit folgenden Parametern aus und speichern Sie den Rückgabewert in einer Variable **iterations_ex8**:\n",
    "* G = DiG_got\n",
    "* early_adopters = ['Bran-Stark', 'Samwell-Tarly', 'Jon-Snow']\n",
    "* iter_nr = 10\n",
    "\n",
    "Lassen Sie sich anschließend die Variable **iterations_ex8** ausgeben, um sich mit der inhaltlichen Struktur des Rückgabewerts vertraut zu machen."
   ]
  },
  {
   "cell_type": "code",
   "execution_count": null,
   "metadata": {},
   "outputs": [],
   "source": [
    "# Platz für Ihre Lösung"
   ]
  },
  {
   "cell_type": "markdown",
   "metadata": {},
   "source": [
    "### Aufgabe 9\n",
    "Welche Personen wurden in der ersten Iteration **infiziert** (Status 1) und wie viele Personen besitzen in der letzten Iteration den Status **Removed** (2)?"
   ]
  },
  {
   "cell_type": "code",
   "execution_count": null,
   "metadata": {},
   "outputs": [],
   "source": [
    "# Platz für Ihre Lösung"
   ]
  },
  {
   "cell_type": "markdown",
   "metadata": {},
   "source": [
    "### Aufgabe 10\n",
    "Wieso hat die Information relativ wenige Personen erreicht, obwohl die drei Early Adopters hohe Out-Degrees besitzen ('Bran-Stark': 32, 'Samwell-Tarly': 12, 'Jon-Snow': 37)?\n",
    "\n",
    "**Tipp:** Schauen Sie sich an, wie die Infektionswahrscheinlichkeiten (Thresholds) in der icm-Funktion gesetzt wurden. Diese Thresholds werden in ndlib wie folgt verwendet: Pro Kante zwischen infiziertem Knoten und Nachbarknoten wird eine zufällige Zahl (float) zwischen 0 und 1 erzeugt und geprüft, ob diese kleiner oder gleich dem Threshold der Kante ist. Ist das der Fall, wird der Nachbarknoten infiziert. Ist die zufällige Zahl größer als der Threshold, wird der Nachbarknoten nicht infiziert. Den entsprechenden Code dazu finden Sie hier: https://github.com/GiulioRossetti/ndlib/blob/master/ndlib/models/epidemics/IndependentCascadesModel.py"
   ]
  },
  {
   "cell_type": "markdown",
   "metadata": {},
   "source": [
    "**Antwort zu Aufgabe 10:**\n",
    "Platz für Ihre Lösung"
   ]
  },
  {
   "cell_type": "markdown",
   "metadata": {},
   "source": [
    "### Aufgabe 11\n",
    "Überprüfen Sie die in Aufgabe 10 aufgestellte Hypothese, indem Sie nun für alle Kanten einen sehr hohen Threshold von 0,99 setzen. Kopieren Sie dazu die Funktion aus Aufgabe 7 in die folgende Zelle und passen Sie diese so an, dass der Threshold für alle Kanten fix gesetzt wird."
   ]
  },
  {
   "cell_type": "code",
   "execution_count": null,
   "metadata": {},
   "outputs": [],
   "source": [
    "def icm_fix (G, early_adopters, iter_nr):\n",
    "    \n",
    "    # Platz für Ihre Lösung\n",
    "    \n",
    "    return iterations"
   ]
  },
  {
   "cell_type": "markdown",
   "metadata": {},
   "source": [
    "### Aufgabe 12\n",
    "Führen Sie die zuvor implementierte icm_fix-Funktion mit folgenden Parametern aus und speichern Sie den Rückgabewert in einer Variable **iterations_ex12**:\n",
    "* G = DiG_got\n",
    "* early_adopters = ['Bran-Stark', 'Samwell-Tarly', 'Jon-Snow']\n",
    "* iter_nr = 10\n",
    "\n",
    "Ermitteln Sie anschließend, wie viele Personen in der letzten Iteration den Status **Removed** (2) besitzen. Konnten alle Personen im Netzwerk informiert werden?"
   ]
  },
  {
   "cell_type": "code",
   "execution_count": null,
   "metadata": {},
   "outputs": [],
   "source": [
    "# Platz für Ihre Lösung"
   ]
  },
  {
   "cell_type": "markdown",
   "metadata": {},
   "source": [
    "### Aufgabe 13\n",
    "Es scheint, als wäre das Setzen der Infektionswahrscheinlichkeiten auf Basis der normalisierten Kantengewichte keine optimale Lösung. Welche Alternativen fallen Ihnen ein?"
   ]
  },
  {
   "cell_type": "markdown",
   "metadata": {},
   "source": [
    "**Antwort zu Aufgabe 13:**\n",
    "* Platz für Ihre Lösung"
   ]
  }
 ],
 "metadata": {
  "kernelspec": {
   "display_name": "Python 3",
   "language": "python",
   "name": "python3"
  },
  "language_info": {
   "codemirror_mode": {
    "name": "ipython",
    "version": 3
   },
   "file_extension": ".py",
   "mimetype": "text/x-python",
   "name": "python",
   "nbconvert_exporter": "python",
   "pygments_lexer": "ipython3",
   "version": "3.8.5"
  }
 },
 "nbformat": 4,
 "nbformat_minor": 4
}
