{
 "cells": [
  {
   "cell_type": "markdown",
   "metadata": {},
   "source": [
    "# Link Prediction\n",
    "Im Skript haben Sie Verfahren zur Link Prediction kennengelernt. Diese sollen Sie nun praktisch anwenden. Als Datenbasis dient erneut ein Game of Thrones Netzwerk, das dieses Mal die Charaktere aller fünf Bücher umfasst. Bevor Sie mit der Analyse starten, müssen die notwendigen Pakete importiert werden."
   ]
  },
  {
   "cell_type": "code",
   "execution_count": null,
   "metadata": {},
   "outputs": [],
   "source": [
    "import matplotlib.pyplot as plt\n",
    "import networkx as nx\n",
    "import networkx.algorithms.community as nx_comm\n",
    "import numpy as np\n",
    "import pandas as pd\n",
    "import random\n",
    "\n",
    "# Mit den von Ihnen benötigten Paketen ergänzen"
   ]
  },
  {
   "cell_type": "markdown",
   "metadata": {},
   "source": [
    "### Aufgabe 1\n",
    "Laden Sie die Datei **asoiaf-all-edges.csv** in ein Dataframe und erstellen Sie daraus einen ungerichteten Graphen G_got. Fügen Sie dem Graphen die im csv enthaltenen Kantengewichte als Edge Attribut **weight** hinzu."
   ]
  },
  {
   "cell_type": "code",
   "execution_count": null,
   "metadata": {},
   "outputs": [],
   "source": [
    "# Platz für Ihre Lösung"
   ]
  },
  {
   "cell_type": "markdown",
   "metadata": {},
   "source": [
    "### Aufgabe 2\n",
    "Wie viele Knoten und Kanten besitzt das Netzwerk?"
   ]
  },
  {
   "cell_type": "code",
   "execution_count": null,
   "metadata": {},
   "outputs": [],
   "source": [
    "# Platz für Ihre Lösung"
   ]
  },
  {
   "cell_type": "markdown",
   "metadata": {},
   "source": [
    "### Aufgabe 3\n",
    "Später im Notebook müssen Sie u.a. Common Neighbor Soundarajan-Hopcroft-Scores berechnen. Voraussetzung dafür ist die Existenz einer Community-Zuordnung für jeden Knoten des Netzwerks. Führen Sie daher eine Community Detection unter Verwendung des asynchronen Label-Propagation-Algorithmus durch und speichern Sie die Community-Zuordnung pro Knoten im Node-Attribut **community**."
   ]
  },
  {
   "cell_type": "code",
   "execution_count": null,
   "metadata": {},
   "outputs": [],
   "source": [
    "# Platz für Ihre Lösung"
   ]
  },
  {
   "cell_type": "markdown",
   "metadata": {},
   "source": [
    "Im weiteren Verlauf des Notebooks sollen Sie ein Modell zur Link Prediction trainieren. Dabei handelt es sich um ein binäres Klassifikationsproblem (0 = kein Link, 1 = Link). Dementsprechend benötigen Sie Trainings- und Testdaten, die Beispiele für beide Zustände enthalten. Mit Graph.edges() können die positiven Beispiele (1 = Link vorhanden) einfach ausgelesen werden. Die negativen Beispiele (Knotenpaare, die keinen Link besitzen) hingegen müssen aus den verbleibenden Knotenpaaren, die keine Verbindung besitzen, erzeugt werden. Damit der Datensatz balanciert ist, werden gleich viele Beispiele beider Klassen erstellt.\n",
    "\n",
    "Führen Sie die folgende Zelle aus, um eine Liste aller Beipieldatensätze zu erzeugen."
   ]
  },
  {
   "cell_type": "code",
   "execution_count": null,
   "metadata": {},
   "outputs": [],
   "source": [
    "# create positive samples\n",
    "positive_samples = list(G_got.edges())\n",
    "\n",
    "# create negative samples\n",
    "negative_samples = []\n",
    "while len(negative_samples) < len(positive_samples):\n",
    "    u = random.choice(list(G_got.nodes()))\n",
    "    v = random.choice(list(G_got.nodes()))\n",
    "    if u != v and (u,v) not in negative_samples and (u,v) not in positive_samples:\n",
    "        negative_samples.append((u,v))\n",
    "        \n",
    "# combine both samples in list\n",
    "all_samples = negative_samples + positive_samples"
   ]
  },
  {
   "cell_type": "markdown",
   "metadata": {},
   "source": [
    "### Aufgabe 4\n",
    "Erstellen Sie ein leeres Pandas Dataframe namens **x**, das einen MultiIndex bestehend aus den beiden an der Beziehung beteiligten Knoten besitzt. In diesem werden später die Features gespeichert."
   ]
  },
  {
   "cell_type": "code",
   "execution_count": null,
   "metadata": {},
   "outputs": [],
   "source": [
    "# Platz für Ihre Lösung"
   ]
  },
  {
   "cell_type": "markdown",
   "metadata": {},
   "source": [
    "### Aufgabe 5\n",
    "Berechnen Sie für jede in **x** enthaltene Kante (Index) die folgenden Kennzahlen und fügen Sie diese jeweils als Spalte in **x** hinzu:\n",
    "* Anzahl der Common Neighbors\n",
    "* Jaccard Coefficient\n",
    "* Ressource Allocation Index\n",
    "* Adamic-Adar Index\n",
    "* Common Neighbor Soundarajan-Hopcroft-Score\n",
    "* Soundarajan-Hopcroft Ressource Allocation Index"
   ]
  },
  {
   "cell_type": "code",
   "execution_count": null,
   "metadata": {},
   "outputs": [],
   "source": [
    "# Platz für Ihre Lösung"
   ]
  },
  {
   "cell_type": "markdown",
   "metadata": {},
   "source": [
    "### Aufgabe 6\n",
    "Estellen Sie nun ein Dataframe **y**, das ebenfalls einen MultiIndex bestehend aus den beiden an der Beziehung beteiligten Knoten besitzt. Legen Sie in **y** eine Spalte **link** an, die pro Kante den Wert 1 (falls eine Kante existiert) oder 0 (falls keine Kante existiert) enthält."
   ]
  },
  {
   "cell_type": "code",
   "execution_count": null,
   "metadata": {},
   "outputs": [],
   "source": [
    "# Platz für Ihre Lösung"
   ]
  },
  {
   "cell_type": "markdown",
   "metadata": {},
   "source": [
    "### Aufgabe 7\n",
    "Mit **x** und **y** liegen nun pro Kante sowohl die Features als auch die Werte der Zielvariablen vor. Teilen Sie diese nun im Verhältnis von 70-30 in Trainingsdaten (70) und Testdaten (30) auf. Dazu können Sie *sklearn.sklearn.model_selection.train_test_split* verwenden."
   ]
  },
  {
   "cell_type": "code",
   "execution_count": null,
   "metadata": {},
   "outputs": [],
   "source": [
    "# Platz für Ihre Lösung"
   ]
  },
  {
   "cell_type": "markdown",
   "metadata": {},
   "source": [
    "### Aufgabe 8\n",
    "Trainieren Sie mithilfe der gegebenen Trainingsdaten ein Machine Learning Model (Binary Classifier) ihrer Wahl, um eine Link Prediction durchzuführen. Validieren Sie anschließend die Genauigkeit ihres Modells auf den Testdaten. Lassen Sie sich dazu die Accuracy des Modells ausgeben und erstellen Sie eine Confusion Matrix.\n",
    "\n",
    "**Hinweis:** Bilden Sie vier Gruppen im Kurs, um diese Aufgaben zu bearbeiten. Jede Gruppe sollte ein anderes Verfahren verwenden, damit wir die Ergebnisse vergleichen können. Bespielsweise könnten Sie eines der folgenden Verfahren verwenden:\n",
    "\n",
    "* Support Vector Machines\n",
    "* Random Forest\n",
    "* Gradient Boosting mit XGBoost\n",
    "* Naive Bayes Classifier\n",
    "* Neuronales Netzwerk\n",
    "\n",
    "Das Baseline-Modell in der Musterlösung (nicht optimiert) besitzt eine Accuracy von 0,90. Versuchen Sie, diese Genauigkeit zu übertreffen."
   ]
  },
  {
   "cell_type": "code",
   "execution_count": null,
   "metadata": {},
   "outputs": [],
   "source": [
    "# Platz für Ihre Lösung"
   ]
  },
  {
   "cell_type": "markdown",
   "metadata": {},
   "source": [
    "### Aufgabe 9 (optional)\n",
    "Optimieren Sie ihr Modell und testen Sie es mit alternativen Input-Features."
   ]
  },
  {
   "cell_type": "code",
   "execution_count": null,
   "metadata": {},
   "outputs": [],
   "source": [
    "# Platz für Ihre Lösung"
   ]
  }
 ],
 "metadata": {
  "kernelspec": {
   "display_name": "Python 3",
   "language": "python",
   "name": "python3"
  },
  "language_info": {
   "codemirror_mode": {
    "name": "ipython",
    "version": 3
   },
   "file_extension": ".py",
   "mimetype": "text/x-python",
   "name": "python",
   "nbconvert_exporter": "python",
   "pygments_lexer": "ipython3",
   "version": "3.8.5"
  }
 },
 "nbformat": 4,
 "nbformat_minor": 4
}
